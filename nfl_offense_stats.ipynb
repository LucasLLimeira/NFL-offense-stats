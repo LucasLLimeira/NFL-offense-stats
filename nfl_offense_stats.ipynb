{
  "nbformat": 4,
  "nbformat_minor": 0,
  "metadata": {
    "colab": {
      "provenance": []
    },
    "kernelspec": {
      "name": "python3",
      "display_name": "Python 3"
    },
    "language_info": {
      "name": "python"
    }
  },
  "cells": [
    {
      "cell_type": "code",
      "source": [
        "import numpy as np\n",
        "import pandas as pd\n",
        "import seaborn as sns\n",
        "import matplotlib.pyplot as plt\n",
        "from sklearn.linear_model import LinearRegression\n",
        "from sklearn.model_selection import train_test_split\n",
        "from sklearn.metrics import mean_squared_error"
      ],
      "metadata": {
        "id": "EeOAecfFV7HE"
      },
      "execution_count": 43,
      "outputs": []
    },
    {
      "cell_type": "markdown",
      "source": [
        "# 1. Coleta de Dados"
      ],
      "metadata": {
        "id": "wLFyRz4M0k_9"
      }
    },
    {
      "cell_type": "code",
      "source": [
        "rec_url = 'https://www.pro-football-reference.com/years/2022/receiving.htm'\n",
        "rec_df = pd.read_html(rec_url)[0]\n",
        "\n",
        "rush_url = 'https://www.pro-football-reference.com/years/2022/rushing.htm'\n",
        "rb_df = pd.read_html(rush_url, header=1)[0]\n",
        "\n",
        "qb_url = 'https://www.pro-football-reference.com/years/2022/passing.htm'\n",
        "qb_df = pd.read_html(qb_url)[0]"
      ],
      "metadata": {
        "id": "KSzJ1x8jWBRu"
      },
      "execution_count": 44,
      "outputs": []
    },
    {
      "cell_type": "markdown",
      "source": [
        "# 2. WR"
      ],
      "metadata": {
        "id": "l-0vyoPp0x8V"
      }
    },
    {
      "cell_type": "markdown",
      "source": [
        "##2.1 Modelagem"
      ],
      "metadata": {
        "id": "VA3ewHMv1LMf"
      }
    },
    {
      "cell_type": "code",
      "source": [
        "wr_df = rec_df"
      ],
      "metadata": {
        "id": "AQzj19SYocVR"
      },
      "execution_count": 139,
      "outputs": []
    },
    {
      "cell_type": "code",
      "source": [
        "wr_df.drop(wr_df[wr_df['Rec'] == 'Rec'].index, inplace = True)\n",
        "wr_df[['Age', 'G', 'GS', 'Tgt', 'Rec', 'Yds', 'Y/R', 'TD', 'Y/Tgt', 'R/G', 'Y/G']] = wr_df[['Age', 'G', 'GS', 'Tgt', 'Rec', 'Yds', 'Y/R', 'TD', 'Y/Tgt', 'R/G', 'Y/G']].apply(pd.to_numeric)\n",
        "wr_df = wr_df[['Tm', 'Pos','Age', 'G', 'GS', 'Tgt', 'Rec', 'Yds', 'Y/R', 'TD', 'Y/Tgt', 'R/G', 'Y/G']]"
      ],
      "metadata": {
        "id": "STkbc_CqgcSo"
      },
      "execution_count": 140,
      "outputs": []
    },
    {
      "cell_type": "code",
      "source": [
        "wr_df.query('Pos == \"WR\"', inplace=True)\n",
        "wr_df.query('Rec >= 10', inplace=True)\n",
        "wr_df.query('Tgt >= 10', inplace=True)"
      ],
      "metadata": {
        "id": "ST2aSiNQkHyU"
      },
      "execution_count": null,
      "outputs": []
    },
    {
      "cell_type": "code",
      "source": [
        "wr_rcp_td_df = wr_df[['R/G', 'Y/G']]"
      ],
      "metadata": {
        "id": "MLTL9qRZrVmz"
      },
      "execution_count": 142,
      "outputs": []
    },
    {
      "cell_type": "code",
      "source": [
        "model = LinearRegression()"
      ],
      "metadata": {
        "id": "pHQOLguCtQN8"
      },
      "execution_count": 143,
      "outputs": []
    },
    {
      "cell_type": "code",
      "source": [
        "predictors_train, predictors_test, target_train, target_test = train_test_split(\n",
        "    wr_rcp_td_df.drop(['Y/G'], axis=1),\n",
        "    wr_rcp_td_df['Y/G'],\n",
        "    test_size=0.25,\n",
        "    random_state=123\n",
        ")"
      ],
      "metadata": {
        "id": "TkEqgWGOs4yD"
      },
      "execution_count": 144,
      "outputs": []
    },
    {
      "cell_type": "code",
      "source": [
        "model = model.fit(predictors_train, target_train)"
      ],
      "metadata": {
        "id": "zRh3Sh53tXLS"
      },
      "execution_count": 145,
      "outputs": []
    },
    {
      "cell_type": "code",
      "source": [
        "target_predicted = model.predict(predictors_test)"
      ],
      "metadata": {
        "id": "CTsDJAfpurL0"
      },
      "execution_count": 146,
      "outputs": []
    },
    {
      "cell_type": "code",
      "source": [
        "rmse = np.sqrt(mean_squared_error(target_test, target_predicted))\n",
        "print(rmse)"
      ],
      "metadata": {
        "colab": {
          "base_uri": "https://localhost:8080/"
        },
        "id": "9WJXByV7uZnX",
        "outputId": "01e646c5-94ef-4719-b313-7e0671fb0c21"
      },
      "execution_count": 147,
      "outputs": [
        {
          "output_type": "stream",
          "name": "stdout",
          "text": [
            "7.386753277850795\n"
          ]
        }
      ]
    },
    {
      "cell_type": "code",
      "source": [
        "test_data = pd.concat([predictors_test, pd.DataFrame(target_test, columns=['Y/G'])], axis=1).reset_index(drop=True)\n",
        "test_data['predicted'] = False\n",
        "prediction_data = pd.concat([predictors_test.reset_index(drop=True), pd.DataFrame(target_predicted, columns=['Y/G'])], axis=1).reset_index(drop=True)\n",
        "prediction_data['predicted'] = True\n",
        "prediction = pd.concat([test_data, prediction_data]).reset_index(drop=True)"
      ],
      "metadata": {
        "id": "AwmZHT9cvCnf"
      },
      "execution_count": 148,
      "outputs": []
    },
    {
      "cell_type": "code",
      "source": [
        "with sns.axes_style('whitegrid'):\n",
        "\n",
        "  sns.scatterplot(data=prediction, x='R/G', y='Y/G', hue='predicted')\n",
        "plt.savefig('wr_nfl.png')"
      ],
      "metadata": {
        "colab": {
          "base_uri": "https://localhost:8080/",
          "height": 449
        },
        "id": "uL_OeZayv87t",
        "outputId": "05869225-115e-4599-f2ef-5cc5850fa37e"
      },
      "execution_count": 153,
      "outputs": [
        {
          "output_type": "display_data",
          "data": {
            "text/plain": [
              "<Figure size 640x480 with 1 Axes>"
            ],
            "image/png": "[encoded data removed]"
          },
          "metadata": {}
        }
      ]
    },
    {
      "cell_type": "markdown",
      "source": [
        "EXEMPLO: Um Wide Receiver com uma média de 10 recepções, teria em média quantas jardas por jogo?\n",
        "\n"
      ],
      "metadata": {
        "id": "qK5_erEw0B6-"
      }
    },
    {
      "cell_type": "code",
      "source": [
        "jogador = np.array([8])"
      ],
      "metadata": {
        "id": "yfaqhXzHzRFw"
      },
      "execution_count": 150,
      "outputs": []
    },
    {
      "cell_type": "code",
      "source": [
        "Y_G = model.predict(jogador.reshape(1, -1))\n",
        "print(Y_G)"
      ],
      "metadata": {
        "colab": {
          "base_uri": "https://localhost:8080/"
        },
        "id": "mLIVXp-8zcGg",
        "outputId": "85cd0566-6997-4d73-f4e6-eb0fe1ae8500"
      },
      "execution_count": 151,
      "outputs": [
        {
          "output_type": "stream",
          "name": "stdout",
          "text": [
            "[100.11491737]\n"
          ]
        },
        {
          "output_type": "stream",
          "name": "stderr",
          "text": [
            "/usr/local/lib/python3.10/dist-packages/sklearn/base.py:439: UserWarning: X does not have valid feature names, but LinearRegression was fitted with feature names\n",
            "  warnings.warn(\n"
          ]
        }
      ]
    },
    {
      "cell_type": "markdown",
      "source": [
        "##2.2 Conclusões"
      ],
      "metadata": {
        "id": "OKCpKplQvB_x"
      }
    },
    {
      "cell_type": "markdown",
      "source": [
        "Pode-se notar que quanto mais recepções por jogo, mais jardas por jogo. E para superar as 100 jardas, em média, deve ter uma média de 8 recepções."
      ],
      "metadata": {
        "id": "UBBZKIOnvBwW"
      }
    },
    {
      "cell_type": "markdown",
      "source": [
        "#3. RB"
      ],
      "metadata": {
        "id": "HbUZBZtX1gmD"
      }
    },
    {
      "cell_type": "markdown",
      "source": [
        "##3.1 Modelagem"
      ],
      "metadata": {
        "id": "5IQ9uLzC1n9L"
      }
    },
    {
      "cell_type": "code",
      "source": [
        "rb_df.drop(rb_df[rb_df['Att'] == 'Att'].index, inplace = True)\n",
        "rb_df[['Age', 'G', 'GS', 'Att', 'Yds', 'TD', 'Y/A', 'Y/G']] = rb_df[['Age', 'G', 'GS', 'Att', 'Yds', 'TD', 'Y/A', 'Y/G']].apply(pd.to_numeric)\n",
        "rb_df = rb_df[['Tm', 'Pos','Age', 'G', 'GS', 'Att', 'Yds', 'TD', 'Y/A', 'Y/G']]\n",
        "rb_df['TD/G'] = rb_df['TD'] / rb_df['G']"
      ],
      "metadata": {
        "id": "LVnn2MdTqry4"
      },
      "execution_count": 154,
      "outputs": []
    },
    {
      "cell_type": "code",
      "source": [
        "rb_df.query('Pos == \"RB\"', inplace=True)\n",
        "rb_df.query('Att >= 10', inplace=True)\n",
        "rb_df.query('Yds >= 100', inplace=True)"
      ],
      "metadata": {
        "id": "wXhPp7jrq11A"
      },
      "execution_count": 155,
      "outputs": []
    },
    {
      "cell_type": "code",
      "source": [
        "rb_y_td_df = rb_df[['Y/G', 'TD/G']]"
      ],
      "metadata": {
        "id": "9h6QKugYshSS"
      },
      "execution_count": 156,
      "outputs": []
    },
    {
      "cell_type": "code",
      "source": [
        "model = LinearRegression()"
      ],
      "metadata": {
        "id": "ts9eqAqtsshp"
      },
      "execution_count": 157,
      "outputs": []
    },
    {
      "cell_type": "code",
      "source": [
        "predictors_train, predictors_test, target_train, target_test = train_test_split(\n",
        "    rb_y_td_df.drop(['TD/G'], axis=1),\n",
        "    rb_y_td_df['TD/G'],\n",
        "    test_size=0.25,\n",
        "    random_state=123\n",
        ")"
      ],
      "metadata": {
        "id": "yzlpwjSwsu9F"
      },
      "execution_count": 164,
      "outputs": []
    },
    {
      "cell_type": "code",
      "source": [
        "model = model.fit(predictors_train, target_train)"
      ],
      "metadata": {
        "id": "nXKZMa-Hsxo8"
      },
      "execution_count": 165,
      "outputs": []
    },
    {
      "cell_type": "code",
      "source": [
        "target_predicted = model.predict(predictors_test)"
      ],
      "metadata": {
        "id": "PKcRzB1Bs32_"
      },
      "execution_count": 166,
      "outputs": []
    },
    {
      "cell_type": "code",
      "source": [
        "rmse = np.sqrt(mean_squared_error(target_test, target_predicted))\n",
        "print(rmse)"
      ],
      "metadata": {
        "colab": {
          "base_uri": "https://localhost:8080/"
        },
        "outputId": "4bb0332e-b38a-4c2f-e979-2090fec7b73e",
        "id": "ksa5g90ks6a6"
      },
      "execution_count": 167,
      "outputs": [
        {
          "output_type": "stream",
          "name": "stdout",
          "text": [
            "0.09647806044794342\n"
          ]
        }
      ]
    },
    {
      "cell_type": "code",
      "source": [
        "test_data = pd.concat([predictors_test, pd.DataFrame(target_test, columns=['TD/G'])], axis=1).reset_index(drop=True)\n",
        "test_data['predicted'] = False\n",
        "prediction_data = pd.concat([predictors_test.reset_index(drop=True), pd.DataFrame(target_predicted, columns=['TD/G'])], axis=1).reset_index(drop=True)\n",
        "prediction_data['predicted'] = True\n",
        "prediction = pd.concat([test_data, prediction_data]).reset_index(drop=True)"
      ],
      "metadata": {
        "id": "zVf7M4nes8xh"
      },
      "execution_count": 168,
      "outputs": []
    },
    {
      "cell_type": "code",
      "source": [
        "with sns.axes_style('whitegrid'):\n",
        "\n",
        "  sns.scatterplot(data=prediction, x='Y/G', y='TD/G', hue='predicted')\n",
        "plt.savefig('rb_nfl.png')"
      ],
      "metadata": {
        "colab": {
          "base_uri": "https://localhost:8080/",
          "height": 455
        },
        "outputId": "303a533c-d86a-4858-96b5-3b2fca166e1a",
        "id": "oOzKuLY-s-sX"
      },
      "execution_count": 169,
      "outputs": [
        {
          "output_type": "display_data",
          "data": {
            "text/plain": [
              "<Figure size 640x480 with 1 Axes>"
            ],
            "image/png": "[encoded data removed]"
          },
          "metadata": {}
        }
      ]
    },
    {
      "cell_type": "markdown",
      "source": [
        "EXEMPLO: Um Running Back com média de 140 jardas, teria em média quantos Touchdowns por jogo?\n",
        "\n"
      ],
      "metadata": {
        "id": "NxNl3EaBv6-r"
      }
    },
    {
      "cell_type": "code",
      "source": [
        "RB = np.array([140])"
      ],
      "metadata": {
        "id": "9ILKqDXgtB_Z"
      },
      "execution_count": 180,
      "outputs": []
    },
    {
      "cell_type": "code",
      "source": [
        "TD = model.predict(RB.reshape(1, -1))\n",
        "print(TD)"
      ],
      "metadata": {
        "colab": {
          "base_uri": "https://localhost:8080/"
        },
        "outputId": "78703b46-dfd3-44a4-b3f7-c341604ea4b5",
        "id": "TBghS7ZmtEHY"
      },
      "execution_count": 181,
      "outputs": [
        {
          "output_type": "stream",
          "name": "stdout",
          "text": [
            "[1.03503239]\n"
          ]
        },
        {
          "output_type": "stream",
          "name": "stderr",
          "text": [
            "/usr/local/lib/python3.10/dist-packages/sklearn/base.py:439: UserWarning: X does not have valid feature names, but LinearRegression was fitted with feature names\n",
            "  warnings.warn(\n"
          ]
        }
      ]
    },
    {
      "cell_type": "markdown",
      "source": [
        "##3.2 Conclusões"
      ],
      "metadata": {
        "id": "9yCJkd_I1ukZ"
      }
    },
    {
      "cell_type": "markdown",
      "source": [
        "Observa-se que quanto mais jardas por jogo tem um RB, maior a probabilidade de fazer um TD por jogo.\n",
        "Também nota-se que para fazer 1 TD seria necessário aproximadamente 140 jardas."
      ],
      "metadata": {
        "id": "W4Lp2gkf1zYV"
      }
    },
    {
      "cell_type": "markdown",
      "source": [
        "#4. QB"
      ],
      "metadata": {
        "id": "ct_oOCsf1y6n"
      }
    },
    {
      "cell_type": "markdown",
      "source": [
        "##4.1 Modelagem"
      ],
      "metadata": {
        "id": "a3TdKPPH16qH"
      }
    },
    {
      "cell_type": "code",
      "source": [
        "qb_df.drop(qb_df[qb_df['Att'] == 'Att'].index, inplace = True)\n",
        "qb_df[['Age', 'G', 'GS', 'Att', 'Yds', 'TD', 'Y/A', 'Y/G']] = qb_df[['Age', 'G', 'GS', 'Att', 'Yds', 'TD', 'Y/A', 'Y/G']].apply(pd.to_numeric)\n",
        "qb_df = qb_df[['Tm', 'Pos','Age', 'G', 'GS', 'Att', 'Yds', 'TD', 'Y/A', 'Y/G']]\n",
        "qb_df['TD/G'] = qb_df['TD'] / qb_df['G']"
      ],
      "metadata": {
        "id": "thzzj3UcxDuh"
      },
      "execution_count": 182,
      "outputs": []
    },
    {
      "cell_type": "code",
      "source": [
        "qb_df.query('Pos == \"QB\"', inplace=True)\n",
        "qb_df.query('Att >= 10', inplace=True)\n",
        "qb_df.query('Yds >= 100', inplace=True)"
      ],
      "metadata": {
        "id": "DvzkthRUxGV1"
      },
      "execution_count": 183,
      "outputs": []
    },
    {
      "cell_type": "code",
      "source": [
        "qb_y_td_df = qb_df[['Y/G', 'TD/G']]"
      ],
      "metadata": {
        "id": "64wuRNpVxIwZ"
      },
      "execution_count": 184,
      "outputs": []
    },
    {
      "cell_type": "code",
      "source": [
        "model = LinearRegression()"
      ],
      "metadata": {
        "id": "E_3VNn0HxLEq"
      },
      "execution_count": 185,
      "outputs": []
    },
    {
      "cell_type": "code",
      "source": [
        "predictors_train, predictors_test, target_train, target_test = train_test_split(\n",
        "    qb_y_td_df.drop(['TD/G'], axis=1),\n",
        "    qb_y_td_df['TD/G'],\n",
        "    test_size=0.25,\n",
        "    random_state=123\n",
        ")"
      ],
      "metadata": {
        "id": "dYQUXdQjxNEI"
      },
      "execution_count": 186,
      "outputs": []
    },
    {
      "cell_type": "code",
      "source": [
        "model = model.fit(predictors_train, target_train)"
      ],
      "metadata": {
        "id": "EHEGCMkjxPbB"
      },
      "execution_count": 187,
      "outputs": []
    },
    {
      "cell_type": "code",
      "source": [
        "target_predicted = model.predict(predictors_test)"
      ],
      "metadata": {
        "id": "3lGVbIJvxTZW"
      },
      "execution_count": 188,
      "outputs": []
    },
    {
      "cell_type": "code",
      "source": [
        "rmse = np.sqrt(mean_squared_error(target_test, target_predicted))\n",
        "print(rmse)"
      ],
      "metadata": {
        "colab": {
          "base_uri": "https://localhost:8080/"
        },
        "outputId": "a925b833-15e4-4b10-b021-4cc0806243c2",
        "id": "9PV-7cPUxVNo"
      },
      "execution_count": 189,
      "outputs": [
        {
          "output_type": "stream",
          "name": "stdout",
          "text": [
            "0.2845256020948012\n"
          ]
        }
      ]
    },
    {
      "cell_type": "code",
      "source": [
        "test_data = pd.concat([predictors_test, pd.DataFrame(target_test, columns=['TD/G'])], axis=1).reset_index(drop=True)\n",
        "test_data['predicted'] = False\n",
        "prediction_data = pd.concat([predictors_test.reset_index(drop=True), pd.DataFrame(target_predicted, columns=['TD/G'])], axis=1).reset_index(drop=True)\n",
        "prediction_data['predicted'] = True\n",
        "prediction = pd.concat([test_data, prediction_data]).reset_index(drop=True)"
      ],
      "metadata": {
        "id": "q7sP0-nqxW2d"
      },
      "execution_count": 190,
      "outputs": []
    },
    {
      "cell_type": "code",
      "source": [
        "with sns.axes_style('whitegrid'):\n",
        "\n",
        "  sns.scatterplot(data=prediction, x='Y/G', y='TD/G', hue='predicted')\n",
        "plt.savefig('qb_nfl.png')"
      ],
      "metadata": {
        "colab": {
          "base_uri": "https://localhost:8080/",
          "height": 451
        },
        "outputId": "55c610e9-539b-4300-ee4e-5af3b58405e7",
        "id": "okSa0Mp5xYhz"
      },
      "execution_count": 191,
      "outputs": [
        {
          "output_type": "display_data",
          "data": {
            "text/plain": [
              "<Figure size 640x480 with 1 Axes>"
            ],
            "image/png": "[encoded data removed]"
          },
          "metadata": {}
        }
      ]
    },
    {
      "cell_type": "markdown",
      "source": [
        "EXEMPLO: Um Quarter Back com uma média de 190 jardas, teria em média quantos Touchdowns por jogo?\n",
        "\n",
        "\n",
        "\n"
      ],
      "metadata": {
        "id": "q4A3fvJ2xai9"
      }
    },
    {
      "cell_type": "code",
      "source": [
        "QB = np.array([190])"
      ],
      "metadata": {
        "id": "yorObDDzxcL9"
      },
      "execution_count": 198,
      "outputs": []
    },
    {
      "cell_type": "code",
      "source": [
        "TD = model.predict(QB.reshape(1, -1))\n",
        "print(TD)"
      ],
      "metadata": {
        "colab": {
          "base_uri": "https://localhost:8080/"
        },
        "outputId": "6110767b-b5b7-4c87-adae-82b34c5ee881",
        "id": "EMjceND8xeEQ"
      },
      "execution_count": 199,
      "outputs": [
        {
          "output_type": "stream",
          "name": "stdout",
          "text": [
            "[1.06165395]\n"
          ]
        },
        {
          "output_type": "stream",
          "name": "stderr",
          "text": [
            "/usr/local/lib/python3.10/dist-packages/sklearn/base.py:439: UserWarning: X does not have valid feature names, but LinearRegression was fitted with feature names\n",
            "  warnings.warn(\n"
          ]
        }
      ]
    },
    {
      "cell_type": "markdown",
      "source": [
        "##4.2 Conclusões"
      ],
      "metadata": {
        "id": "d7CwAvnW1-59"
      }
    },
    {
      "cell_type": "markdown",
      "source": [
        "Pode-se notar que há um aumento no número de TDs quanto mais jardas por jogo tem o QB, apesar de alguma excessões com 0 TD mesmo com a média de 150 jardas por jogo.\n",
        "Também observa-se que para ter 1 TD, seria preciso em média 190 jardas por jogo."
      ],
      "metadata": {
        "id": "tpErCSHn5Xia"
      }
    }
  ]
}